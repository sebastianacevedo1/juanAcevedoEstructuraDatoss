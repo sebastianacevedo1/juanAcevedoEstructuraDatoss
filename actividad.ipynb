{
  "nbformat": 4,
  "nbformat_minor": 0,
  "metadata": {
    "colab": {
      "provenance": [],
      "authorship_tag": "ABX9TyPQSFA1/Z95cXfYvY0vzu3t",
      "include_colab_link": true
    },
    "kernelspec": {
      "name": "python3",
      "display_name": "Python 3"
    },
    "language_info": {
      "name": "python"
    }
  },
  "cells": [
    {
      "cell_type": "markdown",
      "metadata": {
        "id": "view-in-github",
        "colab_type": "text"
      },
      "source": [
        "<a href=\"https://colab.research.google.com/github/sebastianacevedo1/juanAcevedoEstructuraDatoss/blob/main/actividad.ipynb\" target=\"_parent\"><img src=\"https://colab.research.google.com/assets/colab-badge.svg\" alt=\"Open In Colab\"/></a>"
      ]
    },
    {
      "cell_type": "markdown",
      "source": [
        " dada una lista de números [100,30,20], conviértela a una tupla y luego regresa la tupla a una lista. Imprimir la lista final\n"
      ],
      "metadata": {
        "id": "JVIUdni86ycT"
      }
    },
    {
      "cell_type": "code",
      "source": [
        "numeros = [100,30,20]\n",
        "tupla = tuple(numeros)\n",
        "lista = list(tupla)\n",
        "print(lista)"
      ],
      "metadata": {
        "colab": {
          "base_uri": "https://localhost:8080/"
        },
        "id": "xRJKPZEN60AK",
        "outputId": "bbc7692a-8ccd-4db8-ef53-da1ea1beb7d7"
      },
      "execution_count": null,
      "outputs": [
        {
          "output_type": "stream",
          "name": "stdout",
          "text": [
            "[100, 30, 20]\n"
          ]
        }
      ]
    },
    {
      "cell_type": "markdown",
      "source": [
        "Dada una tupla de camisas , debe crear un diccionario de precios por cada camisa. Luego almacene las camisas y precios y condicione si la lista de precios es mayor a 100"
      ],
      "metadata": {
        "id": "uPE2MN1j64kh"
      }
    },
    {
      "cell_type": "code",
      "execution_count": null,
      "metadata": {
        "colab": {
          "base_uri": "https://localhost:8080/"
        },
        "id": "BuyMneHc6pbU",
        "outputId": "946f9814-f398-43bd-d656-cc5f29278e02"
      },
      "outputs": [
        {
          "output_type": "stream",
          "name": "stdout",
          "text": [
            "Ingrese el precio de la camisa roja: 123\n",
            "('roja', 'azul', 'verde')\n",
            "Ingrese el precio de la camisa azul: 123\n",
            "('roja', 'azul', 'verde')\n",
            "Ingrese el precio de la camisa verde: 123\n",
            "('roja', 'azul', 'verde')\n"
          ]
        }
      ],
      "source": [
        "camisas = (\"roja\", \"azul\", \"verde\")\n",
        "diccionario = {}\n",
        "for camisa in camisas:\n",
        "    precio = int(input(\"Ingrese el precio de la camisa \" + camisa + \": \"))\n",
        "    diccionario[camisa] = precio\n",
        "\n",
        "    print(camisas)\n"
      ]
    },
    {
      "cell_type": "markdown",
      "source": [
        "Dada una lista de plalabras [\"manzana\", \"banana\", \"manzana\", \"pera\" , \"banana\"], cuenta cuántas veces aparece cada palabra y almacena los resultados."
      ],
      "metadata": {
        "id": "u0nEK0lJ7OcO"
      }
    },
    {
      "cell_type": "code",
      "source": [
        "palabras = [\"manzana\", \"banana\", \"manzana\", \"pera\" , \"banana\"]\n",
        "diccionario = {}\n",
        "for palabra in palabras:\n",
        "    if palabra in diccionario:\n",
        "        diccionario[palabra] += 1\n",
        "    else:\n",
        "        diccionario[palabra] = 1\n",
        "print(diccionario)"
      ],
      "metadata": {
        "colab": {
          "base_uri": "https://localhost:8080/"
        },
        "id": "gGYf-KTN7PMe",
        "outputId": "7544faf5-316f-4406-c2ab-f6f9515fc526"
      },
      "execution_count": null,
      "outputs": [
        {
          "output_type": "stream",
          "name": "stdout",
          "text": [
            "{'manzana': 2, 'banana': 2, 'pera': 1}\n"
          ]
        }
      ]
    },
    {
      "cell_type": "markdown",
      "source": [
        "Crear un programa que permita al usuario almacenar datos enteros en una matriz y esos datos se sumen y luego realice su respectivo promedio."
      ],
      "metadata": {
        "id": "583Y3r838Bgy"
      }
    },
    {
      "cell_type": "code",
      "source": [
        "matriz = []\n",
        "filas = int(input(\"Ingrese el número de filas de la matriz: \"))\n",
        "columnas = int(input(\"Ingrese el número de columnas de la matriz: \"))\n",
        "\n",
        "for i in range(filas):\n",
        "    fila = []\n",
        "    for j in range(columnas):\n",
        "        elemento = int(input(\"Ingrese el elemento en la posición ({}, {}): \".format(i, j)))\n",
        "        fila.append(elemento)\n",
        "    matriz.append(fila)\n",
        "\n",
        "suma = 0\n",
        "for fila in matriz:\n",
        "    for elemento in fila:\n",
        "        suma += elemento\n",
        "\n",
        "promedio = suma / (filas * columnas)\n",
        "\n",
        "print(\"La matriz es:\")\n",
        "for fila in matriz:\n",
        "    print(fila)\n",
        "\n",
        "print(\"La suma de los elementos de la matriz es:\", suma)\n",
        "print(\"El promedio de los elementos de la matriz es:\", promedio)"
      ],
      "metadata": {
        "id": "aZhl9XCL8CoC",
        "colab": {
          "base_uri": "https://localhost:8080/"
        },
        "outputId": "64195455-e4ab-4daa-b39f-4b92a927860b"
      },
      "execution_count": null,
      "outputs": [
        {
          "output_type": "stream",
          "name": "stdout",
          "text": [
            "Ingrese el número de filas de la matriz: 3\n",
            "Ingrese el número de columnas de la matriz: 3\n",
            "Ingrese el elemento en la posición (0, 0): 1\n",
            "Ingrese el elemento en la posición (0, 1): 2\n",
            "Ingrese el elemento en la posición (0, 2): 3\n",
            "Ingrese el elemento en la posición (1, 0): 4\n",
            "Ingrese el elemento en la posición (1, 1): 5\n",
            "Ingrese el elemento en la posición (1, 2): 6\n",
            "Ingrese el elemento en la posición (2, 0): 7\n",
            "Ingrese el elemento en la posición (2, 1): 8\n",
            "Ingrese el elemento en la posición (2, 2): 9\n",
            "La matriz es:\n",
            "[1, 2, 3]\n",
            "[4, 5, 6]\n",
            "[7, 8, 9]\n",
            "La suma de los elementos de la matriz es: 45\n",
            "El promedio de los elementos de la matriz es: 5.0\n"
          ]
        }
      ]
    },
    {
      "cell_type": "markdown",
      "source": [
        "Dada una lista de diccionarios que representan productos con su nombre y precio, calcula la suma total de los precios de todos los productos ."
      ],
      "metadata": {
        "id": "OcM97qTLnoAA"
      }
    },
    {
      "cell_type": "code",
      "source": [
        "productos = {'champoo':20000,\n",
        "             'cepillo': 13000,\n",
        "             'jabon':3000,\n",
        "             'crema':3000,\n",
        "             'gel':9000}\n",
        "\n",
        "suma = 0\n",
        "for precio in productos.values():\n",
        "    suma += precio\n",
        "\n",
        "print(\"La suma total de los precios de los productos es:\", suma)\n"
      ],
      "metadata": {
        "colab": {
          "base_uri": "https://localhost:8080/"
        },
        "id": "CwgkTBdtno3T",
        "outputId": "fa2a862a-8a7f-4691-992e-0d63d6fc753e"
      },
      "execution_count": null,
      "outputs": [
        {
          "output_type": "stream",
          "name": "stdout",
          "text": [
            "La suma total de los precios de los productos es: 48000\n"
          ]
        }
      ]
    }
  ]
}
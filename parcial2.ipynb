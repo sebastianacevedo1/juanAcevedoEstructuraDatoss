{
  "cells": [
    {
      "cell_type": "markdown",
      "metadata": {
        "id": "view-in-github",
        "colab_type": "text"
      },
      "source": [
        "<a href=\"https://colab.research.google.com/github/sebastianacevedo1/juanAcevedoEstructuraDatoss/blob/main/parcial2.ipynb\" target=\"_parent\"><img src=\"https://colab.research.google.com/assets/colab-badge.svg\" alt=\"Open In Colab\"/></a>"
      ]
    },
    {
      "cell_type": "markdown",
      "source": [
        "- Santiago Rojas Cardenas        ID: 927171\n",
        "- Juan Sebastian Acevedo Muñoz   ID:925783\n",
        "\n",
        "Automoviles Chimenea (contaminacion en bogota)"
      ],
      "metadata": {
        "id": "76pLL18g3w4u"
      }
    },
    {
      "cell_type": "markdown",
      "source": [
        "1. **Project goals**\n",
        "\n",
        "The goals should define what is expected to be achieved through the study of chimenea cars in Bogotá. The main and sub-goals can be distinguished:\n",
        "\n",
        "**Main goal:**\n",
        "\n",
        "- To evaluate the environmental and social impact of the chimenea cars in Bogotá, and come up with regulatory or substitutional measures.\n",
        "\n",
        "**Sub-goals:**\n",
        "\n",
        "- To identify the technical features of the unit of machines commonly known as chimenea cars.\n",
        "\n",
        "- To study the risk to public health associated with the pervasive presence of such machines in urban areas.\n",
        "\n",
        "- To suggest concepts of measures for emissions reduction or withdrawal of chimenea cars environment."
      ],
      "metadata": {
        "id": "AKMoRFyayIY0"
      }
    },
    {
      "cell_type": "markdown",
      "source": [
        "2. **Problem Planning**\n",
        "\n",
        "To make the project be in order, the problem has to be planned into phases. This process will make progress structured and make ensuring that all important aspects are covered. Phase\n",
        "\n",
        "  1: **Preliminary Research**\n",
        "  - Collecting information into the phenomenon of chimneys cars.\n",
        "  - Research on environmental and citizen perception problems in bogota.\n",
        "\n",
        "  2: **Problem Analysis**\n",
        "  - Case study on specific vehicles in Bogota classified as chimneys cars.\n",
        "  - Data examining the air pollution in the area affected by such vehicles. Phase\n",
        "\n",
        "  3: **Alternatives Evaluation**\n",
        "  - Unique technologies identification reducing pollution , e.g. installing particle filters or using less polluted fuels. Phase\n",
        "\n",
        "  4: **Solution Proposal**\n",
        "  - Creating actual policy proposals & based on the analysis determining Government-level regulations, economic incentives, and education procedures to mitigate pollution. Phase\n",
        "\n",
        "  5: **Communication and Awareness**\n",
        "  - Planning an awareness campaign to inform the population of the harmful effects of chimneys cars and the importance of sustainable transport."
      ],
      "metadata": {
        "id": "egVg5EHb0PlL"
      }
    },
    {
      "cell_type": "markdown",
      "source": [
        "3. Methodology\n",
        "\n",
        "**Bibliographic Review:**\n",
        "\n",
        "- Previous studies on vehicular pollution and the chimney car phenomenon will be sought.\n",
        "\n",
        "- Review of national and international standards on emissions control.\n",
        "\n",
        "**Field Studies:**\n",
        "\n",
        "- Identify critical areas within Bogotá with a high flow of chimney cars.\n",
        "\n",
        "**Data analysis:**\n",
        "\n",
        "- Statistical analysis tools will be used to evaluate whether or not there is a relationship between the presence of chimney cars and atmospheric pollution levels.\n",
        "\n",
        "- Use public health data to investigate whether there are correlations with other types of respiratory diseases.\n",
        "\n",
        "**Interviews and surveys:**\n",
        "\n",
        "- Survey drivers to understand their perspective.\n",
        "\n",
        "- Conduct street surveys of affected citizens.\n",
        "\n",
        "- Interview experts in transportation, public health, and the environment to gather opinions on possible solutions.\n",
        "\n",
        "**Proposals and validation:**\n",
        "\n",
        "- Propose one or more solutions based on the evidence collected.\n",
        "\n",
        "- Validate these solutions using simulations or consultations with experts."
      ],
      "metadata": {
        "id": "pK0LiPhE0wGU"
      }
    },
    {
      "cell_type": "code",
      "execution_count": null,
      "metadata": {
        "colab": {
          "base_uri": "https://localhost:8080/"
        },
        "id": "nEWlOG6jeRX1",
        "outputId": "272edbba-e841-43af-82dc-5e9d50c013b5"
      },
      "outputs": [
        {
          "output_type": "stream",
          "name": "stdout",
          "text": [
            "Columnas del archivo:\n",
            "Index(['EMPRESA', 'PLACA', 'FECHA DE PRESENTACION', 'MODELO/ANO', 'RESULTADO',\n",
            "       'LIMITE', 'ESTADO'],\n",
            "      dtype='object')\n",
            "--------------------------------------------------------------------\n",
            "  \n",
            "Lista de adelante hacia atrás (Ordenada asendente):\n",
            "Dato.........: {'EMPRESA': 726, 'PLACA': 'SIK538', 'FECHA DE PRESENTACION': 'FEBRERO 15 DE 2017', 'MODELO/ANO': '2003', 'RESULTADO': '17,29', 'LIMITE': '20', 'ESTADO': 'APROBADO'} <-> Dato.........: {'EMPRESA': 727, 'PLACA': 'SHJ780', 'FECHA DE PRESENTACION': 'FEBRERO 15 DE 2017', 'MODELO/ANO': '2000', 'RESULTADO': '11,82', 'LIMITE': '20', 'ESTADO': 'APROBADO'} <-> Dato.........: {'EMPRESA': 728, 'PLACA': 'SID198', 'FECHA DE PRESENTACION': 'FEBRERO 15 DE 2017', 'MODELO/ANO': '2002', 'RESULTADO': '15,2', 'LIMITE': '20', 'ESTADO': 'APROBADO'} <-> Dato.........: {'EMPRESA': 729, 'PLACA': 'SIA577', 'FECHA DE PRESENTACION': 'FEBRERO 17 DE 2017', 'MODELO/ANO': '2001', 'RESULTADO': '17,23', 'LIMITE': '20', 'ESTADO': 'APROBADO'} <-> Dato.........: {'EMPRESA': 730, 'PLACA': 'SHJ242', 'FECHA DE PRESENTACION': 'FEBRERO 16 DE 2017', 'MODELO/ANO': '2000', 'RESULTADO': '4', 'LIMITE': '20', 'ESTADO': 'APROBADO'} <-> Dato.........: {'EMPRESA': 731, 'PLACA': 'SIR170', 'FECHA DE PRESENTACION': 'FEBRERO 22 DE 2017', 'MODELO/ANO': '2004', 'RESULTADO': '18,12', 'LIMITE': '20', 'ESTADO': 'APROBADO'} <-> Dato.........: {'EMPRESA': 732, 'PLACA': 'SHD821', 'FECHA DE PRESENTACION': 'FEBRERO 17 DE 2017', 'MODELO/ANO': '1998', 'RESULTADO': '10,73', 'LIMITE': '20', 'ESTADO': 'APROBADO'} <-> Dato.........: {'EMPRESA': 734, 'PLACA': 'SIH449', 'FECHA DE PRESENTACION': 'FEBRERO 17 DE 2017', 'MODELO/ANO': '2003', 'RESULTADO': '17,31', 'LIMITE': '20', 'ESTADO': 'APROBADO'} <-> Dato.........: {'EMPRESA': 733, 'PLACA': 'VED047', 'FECHA DE PRESENTACION': 'FEBRERO 28 DE 2017', 'MODELO/ANO': '2007', 'RESULTADO': 'INCUMPLE NTC 4231 SALIDAS ADICIONALES A LAS DE DISEÃ\\x91O', 'LIMITE': '20', 'ESTADO': 'RECHAZADO'} <-> Dato.........: {'EMPRESA': 735, 'PLACA': 'SIA573', 'FECHA DE PRESENTACION': 'FEBRERO 17 DE 2017', 'MODELO/ANO': '2001', 'RESULTADO': '48,18', 'LIMITE': '20', 'ESTADO': 'RECHAZADO'} <-> None\n",
            " \n",
            "\n",
            "Lista de atrás hacia adelante (ordenada Desendente):\n",
            "Dato.........: {'EMPRESA': 735, 'PLACA': 'SIA573', 'FECHA DE PRESENTACION': 'FEBRERO 17 DE 2017', 'MODELO/ANO': '2001', 'RESULTADO': '48,18', 'LIMITE': '20', 'ESTADO': 'RECHAZADO'} <-> Dato.........: {'EMPRESA': 733, 'PLACA': 'VED047', 'FECHA DE PRESENTACION': 'FEBRERO 28 DE 2017', 'MODELO/ANO': '2007', 'RESULTADO': 'INCUMPLE NTC 4231 SALIDAS ADICIONALES A LAS DE DISEÃ\\x91O', 'LIMITE': '20', 'ESTADO': 'RECHAZADO'} <-> Dato.........: {'EMPRESA': 734, 'PLACA': 'SIH449', 'FECHA DE PRESENTACION': 'FEBRERO 17 DE 2017', 'MODELO/ANO': '2003', 'RESULTADO': '17,31', 'LIMITE': '20', 'ESTADO': 'APROBADO'} <-> Dato.........: {'EMPRESA': 732, 'PLACA': 'SHD821', 'FECHA DE PRESENTACION': 'FEBRERO 17 DE 2017', 'MODELO/ANO': '1998', 'RESULTADO': '10,73', 'LIMITE': '20', 'ESTADO': 'APROBADO'} <-> Dato.........: {'EMPRESA': 731, 'PLACA': 'SIR170', 'FECHA DE PRESENTACION': 'FEBRERO 22 DE 2017', 'MODELO/ANO': '2004', 'RESULTADO': '18,12', 'LIMITE': '20', 'ESTADO': 'APROBADO'} <-> Dato.........: {'EMPRESA': 730, 'PLACA': 'SHJ242', 'FECHA DE PRESENTACION': 'FEBRERO 16 DE 2017', 'MODELO/ANO': '2000', 'RESULTADO': '4', 'LIMITE': '20', 'ESTADO': 'APROBADO'} <-> Dato.........: {'EMPRESA': 729, 'PLACA': 'SIA577', 'FECHA DE PRESENTACION': 'FEBRERO 17 DE 2017', 'MODELO/ANO': '2001', 'RESULTADO': '17,23', 'LIMITE': '20', 'ESTADO': 'APROBADO'} <-> Dato.........: {'EMPRESA': 728, 'PLACA': 'SID198', 'FECHA DE PRESENTACION': 'FEBRERO 15 DE 2017', 'MODELO/ANO': '2002', 'RESULTADO': '15,2', 'LIMITE': '20', 'ESTADO': 'APROBADO'} <-> Dato.........: {'EMPRESA': 727, 'PLACA': 'SHJ780', 'FECHA DE PRESENTACION': 'FEBRERO 15 DE 2017', 'MODELO/ANO': '2000', 'RESULTADO': '11,82', 'LIMITE': '20', 'ESTADO': 'APROBADO'} <-> Dato.........: {'EMPRESA': 726, 'PLACA': 'SIK538', 'FECHA DE PRESENTACION': 'FEBRERO 15 DE 2017', 'MODELO/ANO': '2003', 'RESULTADO': '17,29', 'LIMITE': '20', 'ESTADO': 'APROBADO'} <-> None\n"
          ]
        }
      ],
      "source": [
        "import pandas as pd\n",
        "\n",
        "class Nodo:\n",
        "    def __init__(self, datos):\n",
        "        self.datos = datos\n",
        "        self.siguiente = None\n",
        "        self.anterior = None\n",
        "\n",
        "class ListaDobleEnlazada:\n",
        "    def __init__(self):\n",
        "        self.cabeza = None\n",
        "\n",
        "    def insertar(self, datos):\n",
        "        nuevo_nodo = Nodo(datos)\n",
        "        if not self.cabeza:\n",
        "            self.cabeza = nuevo_nodo\n",
        "        else:\n",
        "            actual = self.cabeza\n",
        "            while actual.siguiente:  # Go to the last node\n",
        "                actual = actual.siguiente\n",
        "            actual.siguiente = nuevo_nodo\n",
        "            nuevo_nodo.anterior = actual # Points to the previous node\n",
        "\n",
        "    # Method to display list items from front to back\n",
        "    def mostrar_adelante(self):\n",
        "        if not self.cabeza:\n",
        "            print(\"La lista está vacía.\")\n",
        "            return\n",
        "        actual = self.cabeza\n",
        "        while actual:\n",
        "            print(f\"Dato.........: {actual.datos}\", end=\" <-> \")\n",
        "            actual = actual.siguiente\n",
        "        print(\"None\")\n",
        "\n",
        "    # Method to display list items from back to front\n",
        "    def mostrar_atras(self):\n",
        "        if not self.cabeza:\n",
        "            print(\"La lista está vacía.\")\n",
        "            return\n",
        "        actual = self.cabeza\n",
        "        # Go to last node\n",
        "        while actual.siguiente:\n",
        "            actual = actual.siguiente\n",
        "        # Scroll backwards\n",
        "        while actual:\n",
        "            print(f\"Dato.........: {actual.datos}\", end=\" <-> \")\n",
        "            actual = actual.anterior\n",
        "        print(\"None\")\n",
        "\n",
        "# File path\n",
        "file_path = '/content/requerimientos-buses-chimenea-csv.csv'\n",
        "\n",
        "df = pd.read_csv(file_path, encoding='latin1', delimiter=',')\n",
        "\n",
        "# Displays the columns of the file\n",
        "print(\"Columnas del archivo:\")\n",
        "print(df.columns)\n",
        "print(\"--------------------------------------------------------------------\")\n",
        "print (\"  \")\n",
        "\n",
        "# Select the first 10 data and sort them by column\n",
        "df_ordenado = df.head(10).sort_values(by='ESTADO')\n",
        "\n",
        "# Crear una lista doblemente enlazada\n",
        "lista_doble = ListaDobleEnlazada()\n",
        "\n",
        "# Insert sorted data into doubly linked list\n",
        "for index, row in df_ordenado.iterrows():\n",
        "    lista_doble.insertar(row.to_dict())\n",
        "\n",
        "# Display list from front to back\n",
        "print(\"Lista de adelante hacia atrás (Ordenada asendente):\")\n",
        "lista_doble.mostrar_adelante()\n",
        "print ( \" \")\n",
        "\n",
        "# Show list from back to front\n",
        "print(\"\\nLista de atrás hacia adelante (ordenada Desendente):\")\n",
        "lista_doble.mostrar_atras()"
      ]
    }
  ],
  "metadata": {
    "colab": {
      "provenance": [],
      "authorship_tag": "ABX9TyOFNmsUmJ1fKJMOiMQvtiTN",
      "include_colab_link": true
    },
    "kernelspec": {
      "display_name": "Python 3",
      "name": "python3"
    },
    "language_info": {
      "name": "python"
    }
  },
  "nbformat": 4,
  "nbformat_minor": 0
}

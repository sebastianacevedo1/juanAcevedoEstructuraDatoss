{
  "cells": [
    {
      "cell_type": "markdown",
      "metadata": {
        "id": "view-in-github",
        "colab_type": "text"
      },
      "source": [
        "<a href=\"https://colab.research.google.com/github/sebastianacevedo1/juanAcevedoEstructuraDatoss/blob/main/parcial2.ipynb\" target=\"_parent\"><img src=\"https://colab.research.google.com/assets/colab-badge.svg\" alt=\"Open In Colab\"/></a>"
      ]
    },
    {
      "cell_type": "markdown",
      "metadata": {
        "id": "NdJUd3nk2_KS"
      },
      "source": [
        "1. Extraer datos .txto o .csv o .xlsx extraida de bases de datos abiertos y debe convertirlos a nodos en una lista doblemente enlazada:\n",
        "\n",
        "2. De acuerdo al primer punto debe crear una función para insertar datos que dependa de los datos extraídos.\n",
        "\n",
        "3. De acuerdo al primer punto debe crear una función para mostrar datos de adelante hacia atrás, estós  datos que dependan de los datos extraídos.\n",
        "\n",
        "4. De acuerdo al primer punto debe crear una función para mostrar datos de atrás hacia adelante, los datos que dependan de los datos extraídos.\n",
        "\n",
        "5. Debe ordenar los primero 10 datos por código de forma ascendente\n",
        "\n",
        "6. Debe ordenar de forma descendente los datos por nombre"
      ]
    },
    {
      "cell_type": "code",
      "execution_count": null,
      "metadata": {
        "colab": {
          "base_uri": "https://localhost:8080/"
        },
        "id": "nEWlOG6jeRX1",
        "outputId": "81b7d0f7-0fc8-45e7-a796-79c1792e266c"
      },
      "outputs": [
        {
          "output_type": "stream",
          "name": "stdout",
          "text": [
            "Columnas del archivo:\n",
            "Index(['ï»¿AÃ±o', 'Localidad', 'Indicador', 'Promedio'], dtype='object')\n",
            "--------------------------------------------------------------------\n",
            "  \n",
            "Lista de adelante hacia atrás (Ordenada asendente):\n",
            "Dato.........: {'ï»¿AÃ±o': 2017, 'Localidad': 'Chapinero', 'Indicador': 'Promedio', 'Promedio': '17,4'} <-> Dato.........: {'ï»¿AÃ±o': 2017, 'Localidad': 'Santa Fe', 'Indicador': 'Promedio', 'Promedio': '19,4'} <-> Dato.........: {'ï»¿AÃ±o': 2017, 'Localidad': 'UsaquÃ©n', 'Indicador': 'Promedio', 'Promedio': '20,6'} <-> Dato.........: {'ï»¿AÃ±o': 2017, 'Localidad': 'Tunjuelito', 'Indicador': 'Promedio', 'Promedio': '21,6'} <-> Dato.........: {'ï»¿AÃ±o': 2017, 'Localidad': 'San CristÃ³bal', 'Indicador': 'Promedio', 'Promedio': '23,1'} <-> Dato.........: {'ï»¿AÃ±o': 2017, 'Localidad': 'Kennedy', 'Indicador': 'Promedio', 'Promedio': '24,7'} <-> Dato.........: {'ï»¿AÃ±o': 2017, 'Localidad': 'EngativÃ¡', 'Indicador': 'Promedio', 'Promedio': '24,7'} <-> Dato.........: {'ï»¿AÃ±o': 2017, 'Localidad': 'FontibÃ³n', 'Indicador': 'Promedio', 'Promedio': '25,4'} <-> Dato.........: {'ï»¿AÃ±o': 2017, 'Localidad': 'Usme', 'Indicador': 'Promedio', 'Promedio': '28,8'} <-> Dato.........: {'ï»¿AÃ±o': 2017, 'Localidad': 'Bosa', 'Indicador': 'Promedio', 'Promedio': '30,9'} <-> None\n",
            " \n",
            "\n",
            "Lista de atrás hacia adelante (ordenada Desendente):\n",
            "Dato.........: {'ï»¿AÃ±o': 2017, 'Localidad': 'Bosa', 'Indicador': 'Promedio', 'Promedio': '30,9'} <-> Dato.........: {'ï»¿AÃ±o': 2017, 'Localidad': 'Usme', 'Indicador': 'Promedio', 'Promedio': '28,8'} <-> Dato.........: {'ï»¿AÃ±o': 2017, 'Localidad': 'FontibÃ³n', 'Indicador': 'Promedio', 'Promedio': '25,4'} <-> Dato.........: {'ï»¿AÃ±o': 2017, 'Localidad': 'EngativÃ¡', 'Indicador': 'Promedio', 'Promedio': '24,7'} <-> Dato.........: {'ï»¿AÃ±o': 2017, 'Localidad': 'Kennedy', 'Indicador': 'Promedio', 'Promedio': '24,7'} <-> Dato.........: {'ï»¿AÃ±o': 2017, 'Localidad': 'San CristÃ³bal', 'Indicador': 'Promedio', 'Promedio': '23,1'} <-> Dato.........: {'ï»¿AÃ±o': 2017, 'Localidad': 'Tunjuelito', 'Indicador': 'Promedio', 'Promedio': '21,6'} <-> Dato.........: {'ï»¿AÃ±o': 2017, 'Localidad': 'UsaquÃ©n', 'Indicador': 'Promedio', 'Promedio': '20,6'} <-> Dato.........: {'ï»¿AÃ±o': 2017, 'Localidad': 'Santa Fe', 'Indicador': 'Promedio', 'Promedio': '19,4'} <-> Dato.........: {'ï»¿AÃ±o': 2017, 'Localidad': 'Chapinero', 'Indicador': 'Promedio', 'Promedio': '17,4'} <-> None\n"
          ]
        }
      ],
      "source": [
        "import pandas as pd\n",
        "\n",
        "class Nodo:\n",
        "    def __init__(self, datos):\n",
        "        self.datos = datos\n",
        "        self.siguiente = None\n",
        "        self.anterior = None\n",
        "\n",
        "class ListaDobleEnlazada:\n",
        "    def __init__(self):\n",
        "        self.cabeza = None\n",
        "\n",
        "    def insertar(self, datos):\n",
        "        nuevo_nodo = Nodo(datos)\n",
        "        if not self.cabeza:\n",
        "            self.cabeza = nuevo_nodo\n",
        "        else:\n",
        "            actual = self.cabeza\n",
        "            while actual.siguiente:  # Recorre hasta el último nodo\n",
        "                actual = actual.siguiente\n",
        "            actual.siguiente = nuevo_nodo\n",
        "            nuevo_nodo.anterior = actual # Apunta al nodo anterior\n",
        "\n",
        "    # Método para mostrar los elementos de la lista de adelante hacia atrás\n",
        "    def mostrar_adelante(self):\n",
        "        if not self.cabeza:\n",
        "            print(\"La lista está vacía.\")\n",
        "            return\n",
        "        actual = self.cabeza\n",
        "        while actual:\n",
        "            print(f\"Dato.........: {actual.datos}\", end=\" <-> \")\n",
        "            actual = actual.siguiente\n",
        "        print(\"None\")\n",
        "\n",
        "    # Método para mostrar los elementos de la lista de atrás hacia adelante\n",
        "    def mostrar_atras(self):\n",
        "        if not self.cabeza:\n",
        "            print(\"La lista está vacía.\")\n",
        "            return\n",
        "        actual = self.cabeza\n",
        "        # Ir al último nodo\n",
        "        while actual.siguiente:\n",
        "            actual = actual.siguiente\n",
        "        # Recorrer hacia atrás\n",
        "        while actual:\n",
        "            print(f\"Dato.........: {actual.datos}\", end=\" <-> \")\n",
        "            actual = actual.anterior\n",
        "        print(\"None\")\n",
        "\n",
        "# Ruta del archivo\n",
        "file_path = '/content/osb_ofertasrv-mincentromedico.csv'\n",
        "\n",
        "df = pd.read_csv(file_path, encoding='latin1', delimiter=';')\n",
        "\n",
        "# Muestra las columnas del archivo\n",
        "print(\"Columnas del archivo:\")\n",
        "print(df.columns)\n",
        "print(\"--------------------------------------------------------------------\")\n",
        "print (\"  \")\n",
        "\n",
        "# Seleccionar los primeros 10 datos y ordenarlos por la columna\n",
        "df_ordenado = df.head(10).sort_values(by='Promedio')\n",
        "\n",
        "# Crear una lista doblemente enlazada\n",
        "lista_doble = ListaDobleEnlazada()\n",
        "\n",
        "# Insertar los datos ordenados en la lista doblemente enlazada\n",
        "for index, row in df_ordenado.iterrows():\n",
        "    lista_doble.insertar(row.to_dict())\n",
        "\n",
        "# Mostrar la lista de adelante hacia atrás\n",
        "print(\"Lista de adelante hacia atrás (Ordenada asendente):\")\n",
        "lista_doble.mostrar_adelante()\n",
        "print ( \" \")\n",
        "\n",
        "# Mostrar la lista de atrás hacia adelante\n",
        "print(\"\\nLista de atrás hacia adelante (ordenada Desendente):\")\n",
        "lista_doble.mostrar_atras()"
      ]
    }
  ],
  "metadata": {
    "colab": {
      "provenance": [],
      "authorship_tag": "ABX9TyNuDBJ2u3Tm6ieGtf65qiQs",
      "include_colab_link": true
    },
    "kernelspec": {
      "display_name": "Python 3",
      "name": "python3"
    },
    "language_info": {
      "name": "python"
    }
  },
  "nbformat": 4,
  "nbformat_minor": 0
}
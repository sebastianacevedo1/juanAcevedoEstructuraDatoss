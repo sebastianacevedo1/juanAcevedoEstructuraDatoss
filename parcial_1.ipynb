{
  "nbformat": 4,
  "nbformat_minor": 0,
  "metadata": {
    "colab": {
      "provenance": [],
      "authorship_tag": "ABX9TyPfwmeBfGp31dteRDoVWvyu",
      "include_colab_link": true
    },
    "kernelspec": {
      "name": "python3",
      "display_name": "Python 3"
    },
    "language_info": {
      "name": "python"
    }
  },
  "cells": [
    {
      "cell_type": "markdown",
      "metadata": {
        "id": "view-in-github",
        "colab_type": "text"
      },
      "source": [
        "<a href=\"https://colab.research.google.com/github/sebastianacevedo1/juanAcevedoEstructuraDatoss/blob/main/parcial_1.ipynb\" target=\"_parent\"><img src=\"https://colab.research.google.com/assets/colab-badge.svg\" alt=\"Open In Colab\"/></a>"
      ]
    },
    {
      "cell_type": "markdown",
      "source": [
        "\n",
        "PARCIAL 1\n",
        "\n",
        "Santiago Rojas Cardenas ID:927171\n",
        "santiago.rojas-c@uniminuto.edu.co\n",
        "\n",
        "Juan Sebastian Acevedo Muñoz ID:925783\n",
        "juan.acevedo-mu@uniminuto.edu.co\n",
        "\n",
        "\n",
        "\n"
      ],
      "metadata": {
        "id": "E2TPwJqWiKe2"
      }
    },
    {
      "cell_type": "code",
      "execution_count": null,
      "metadata": {
        "colab": {
          "base_uri": "https://localhost:8080/"
        },
        "id": "QnqPHavDUuiu",
        "outputId": "64038961-cc42-4f95-a553-1f8dace5a720"
      },
      "outputs": [
        {
          "output_type": "stream",
          "name": "stdout",
          "text": [
            "Ingrese la cantidad de resistencias: 4\n",
            "Ingrese la resistencia: 50\n",
            "50.0\n",
            "Ingrese la resistencia: 50\n",
            "100.0\n",
            "Ingrese la resistencia: 200\n",
            "0.005\n",
            "Ingrese la resistencia: 200\n",
            "0.01\n",
            "[50.0, 50.0, 200.0, 200.0]\n"
          ]
        }
      ],
      "source": [
        "#primer punto del parcial\n",
        "\n",
        "resistencias = []\n",
        "suma = 0\n",
        "suma2 = 0\n",
        "n = int(input(\"Ingrese la cantidad de resistencias: \"))\n",
        "\n",
        "\n",
        "for i in range(n):\n",
        "    resistencia = float(input(\"Ingrese la resistencia: \"))\n",
        "    resistencias.append(resistencia)\n",
        "\n",
        "    if resistencias[i] < 10 or (resistencias[i] > 10 and resistencias[i] <= 100):\n",
        "      suma = resistencias[i] + suma\n",
        "      print (suma)\n",
        "\n",
        "\n",
        "    if resistencias[i] > 100:\n",
        "      suma2 = (1/resistencias[i]) + suma2\n",
        "      print (suma2)\n",
        "\n",
        "print (resistencias)\n"
      ]
    },
    {
      "cell_type": "code",
      "source": [
        "import random\n",
        "\n",
        "#segundo punto del parcial\n",
        "\n",
        "pares = [2, 4, 6, 8, 10, 12, 14, 16, 18, 20, 22, 24, 26, 28, 30, 32, 34, 36]\n",
        "impares = [1, 3, 5, 7, 9, 11, 13, 15, 17, 19, 21, 23, 25, 27, 29, 31, 33, 35]\n",
        "Pdocenas=[1, 2, 3, 4, 5, 6, 7, 8, 9, 10, 11, 12]\n",
        "Sdocenas=[13, 14, 15, 16, 17, 18, 19, 20, 21, 22, 23, 24]\n",
        "Tdocenas=[25, 26, 27, 28, 29, 30, 31, 32, 33, 34, 35, 36]\n",
        "\n",
        "\n",
        "numero = int(input(\"Ingrese un número del 1 - 36: \"))\n",
        "\n",
        "aleatorio = random.randint(1, 36)\n",
        "print (\"el numero de la ruleta es: \",aleatorio)\n",
        "\n",
        "\n",
        "if (aleatorio % 2 == 0):\n",
        "  print (\"el numero generado es par\")\n",
        "  if aleatorio >= 1 and aleatorio <= 12:\n",
        "    print (\"el numero pertenece a la primera docena\")\n",
        "  if aleatorio >= 13 and aleatorio <= 24:\n",
        "    print (\"el numero pertenece a la segunda docena\")\n",
        "  if aleatorio >= 25 and aleatorio <= 36:\n",
        "    print (\"el numero pertenece a la tercera docena\")\n",
        "\n",
        "else:\n",
        "  print (\"el numero generado es impar\")\n",
        "  if aleatorio >= 1 and aleatorio <= 12:\n",
        "    print (\"el numero pertenece a la primera docena\")\n",
        "  if aleatorio >= 13 and aleatorio <= 24:\n",
        "    print (\"el numero pertenece a la segunda docena\")\n",
        "  if aleatorio >= 25 and aleatorio <= 36:\n",
        "    print (\"el numero pertenece a la tercera docena\")\n",
        "\n",
        "\n",
        "\n",
        "\n",
        "if aleatorio == numero:\n",
        "   print (\"ganaste\")\n",
        "\n",
        "else:\n",
        "   print (\"perdiste\")\n",
        "\n"
      ],
      "metadata": {
        "colab": {
          "base_uri": "https://localhost:8080/"
        },
        "id": "t6fSdt5geJ1c",
        "outputId": "6f612221-ac16-407f-86b2-ff6cb41e5320"
      },
      "execution_count": null,
      "outputs": [
        {
          "output_type": "stream",
          "name": "stdout",
          "text": [
            "Ingrese un número del 1 - 36: 8\n",
            "el numero de la ruleta es:  18\n",
            "el numero generado es par\n",
            "el numero pertenece a la segunda docena\n",
            "perdiste\n"
          ]
        }
      ]
    },
    {
      "cell_type": "markdown",
      "source": [],
      "metadata": {
        "id": "sZduAuf0W5Bd"
      }
    }
  ]
}
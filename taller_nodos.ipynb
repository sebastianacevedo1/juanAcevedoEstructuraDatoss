{
  "nbformat": 4,
  "nbformat_minor": 0,
  "metadata": {
    "colab": {
      "provenance": [],
      "authorship_tag": "ABX9TyM5XgUWlZgNMX9Q9aLEjkr1",
      "include_colab_link": true
    },
    "kernelspec": {
      "name": "python3",
      "display_name": "Python 3"
    },
    "language_info": {
      "name": "python"
    }
  },
  "cells": [
    {
      "cell_type": "markdown",
      "metadata": {
        "id": "view-in-github",
        "colab_type": "text"
      },
      "source": [
        "<a href=\"https://colab.research.google.com/github/sebastianacevedo1/juanAcevedoEstructuraDatoss/blob/main/taller_nodos.ipynb\" target=\"_parent\"><img src=\"https://colab.research.google.com/assets/colab-badge.svg\" alt=\"Open In Colab\"/></a>"
      ]
    },
    {
      "cell_type": "markdown",
      "source": [
        "punto 1"
      ],
      "metadata": {
        "id": "ZAzR8WMwAekA"
      }
    },
    {
      "cell_type": "code",
      "execution_count": null,
      "metadata": {
        "id": "twgwycP68o05"
      },
      "outputs": [],
      "source": [
        "class Nodo:\n",
        "    def __init__(self, camisa, pantalones, zapatos):\n",
        "        self.camisa = camisa\n",
        "        self.pantalones = pantalones\n",
        "        self.zapatos = zapatos\n",
        "\n",
        "        self.siguiente = None  # Apunta al siguiente nodo\n"
      ]
    },
    {
      "cell_type": "code",
      "source": [
        "class ListaSimple:\n",
        "    def __init__(self):\n",
        "        self.cabeza = None\n",
        "#metodo para ingresar un nodo a la lista\n",
        "    def agregar(self, camisa, pantalones, zapatos):\n",
        "        nuevo_nodo = Nodo(camisa, pantalones, zapatos)\n",
        "        nuevo_nodo.siguiente = self.cabeza\n",
        "        self.cabeza = nuevo_nodo\n",
        "#metodo para mostrara los nodos\n",
        "    def imprimir(self):\n",
        "        nodo_actual = self.cabeza\n",
        "        while nodo_actual is not None: #recorre hasta el ultimo nodo\n",
        "            print(nodo_actual.camisa, nodo_actual.pantalones, nodo_actual.zapatos)\n",
        "            nodo_actual = nodo_actual.siguiente #inserta el nuevo nodo al final\n"
      ],
      "metadata": {
        "id": "JvTJBxxr8yYa"
      },
      "execution_count": null,
      "outputs": []
    },
    {
      "cell_type": "code",
      "source": [
        "listaSimple = ListaSimple()\n",
        "listaSimple.agregar(\"magan corta: nike,\",\"pantalon corto: koa,\",\"par de zapatos: nike\")\n",
        "listaSimple.agregar(\"manga larga: tommi,\",\"sudadera: adidas,\",\"par de zapatos: rebook\")\n",
        "listaSimple.agregar(\"camiseta: la coste,\",\"pantaloneta: nike,\",\"sandalias: cross\")\n",
        "listaSimple.imprimir()"
      ],
      "metadata": {
        "colab": {
          "base_uri": "https://localhost:8080/"
        },
        "id": "ZE6JNUlG-iNh",
        "outputId": "6e542aa0-b1cf-4a4b-a45e-63b21ea6149b"
      },
      "execution_count": null,
      "outputs": [
        {
          "output_type": "stream",
          "name": "stdout",
          "text": [
            "camiseta: la coste, pantaloneta: nike, sandalias: cross\n",
            "manga larga: tommi, sudadera: adidas, par de zapatos: rebook\n",
            "magan corta: nike, pantalon corto: koa, par de zapatos: nike\n"
          ]
        }
      ]
    },
    {
      "cell_type": "markdown",
      "source": [
        "Punto 2"
      ],
      "metadata": {
        "id": "fWhH7PROAhNp"
      }
    },
    {
      "cell_type": "code",
      "source": [
        "class Nodo:\n",
        "    def __init__(self,escritorios, computadores, mouse, teclados, sillas, tablero, tv):\n",
        "        self.escritorios = escritorios\n",
        "        self.computadores = computadores\n",
        "        self.mouse = mouse\n",
        "        self.teclados = teclados\n",
        "        self.sillas = sillas\n",
        "        self.tablero = tablero\n",
        "        self.tv = tv\n",
        "        self.siguiente = None  # Apunta al siguiente nodo\n"
      ],
      "metadata": {
        "id": "Cyi3SMVOAihz"
      },
      "execution_count": null,
      "outputs": []
    },
    {
      "cell_type": "code",
      "source": [
        "class ListaSimple:\n",
        "    def __init__(self):\n",
        "        self.cabeza = None\n",
        "#metodo para ingresar un nodo a la lista\n",
        "    def agregar(self, escritorios, computadores, mouse, teclados, sillas, tablero, tv):\n",
        "        nuevo_nodo = Nodo(escritorios, computadores, mouse, teclados, sillas, tablero, tv)\n",
        "        nuevo_nodo.siguiente = self.cabeza\n",
        "        self.cabeza = nuevo_nodo\n",
        "#metodo para mostrara los nodos\n",
        "    def imprimir(self):\n",
        "        nodo_actual = self.cabeza\n",
        "        while nodo_actual is not None: #recorre hasta el ultimo nodo\n",
        "            print(nodo_actual.escritorios, nodo_actual.computadores, nodo_actual.mouse, nodo_actual.teclados, nodo_actual.sillas, nodo_actual.tablero, nodo_actual.tv)\n",
        "            nodo_actual = nodo_actual.siguiente #inserta el nuevo nodo al final"
      ],
      "metadata": {
        "id": "qWSC2-lCAi35"
      },
      "execution_count": null,
      "outputs": []
    },
    {
      "cell_type": "code",
      "source": [
        "listaSimple = ListaSimple()\n",
        "listaSimple.agregar(\"mesa de madera,\",\"computadores de mesa,\",\"lenovo,\", \"lenovo,\", \"plastico,\", \"madera,\",\"samsung\")\n",
        "listaSimple.agregar(\"mesa de metal,\",\"portatil lenovo,\",\"logitech,\",\"redDragon,\",\"silas de madera,\",\"teblero de plastico,\",\"Lg\")\n",
        "listaSimple.agregar(\"mesa de pastico,\",\" portatil asus,\",\"HiperX,\",\"astro,\",\"sillas plastico,\",\"tablero plastico,\",\"panasonic\")\n",
        "listaSimple.imprimir()"
      ],
      "metadata": {
        "colab": {
          "base_uri": "https://localhost:8080/"
        },
        "id": "gxqhnbaWAjIC",
        "outputId": "1dc69bc3-b68c-4653-b6f0-ac64ac49e092"
      },
      "execution_count": null,
      "outputs": [
        {
          "output_type": "stream",
          "name": "stdout",
          "text": [
            "mesa de pastico,  portatil asus, HiperX, astro, sillas plastico, tablero plastico, panasonic\n",
            "mesa de metal, portatil lenovo, logitech, redDragon, silas de madera, teblero de plastico, Lg\n",
            "mesa de madera, computadores de mesa, lenovo, lenovo, plastico, madera, samsung\n"
          ]
        }
      ]
    },
    {
      "cell_type": "markdown",
      "source": [
        "Punto 3"
      ],
      "metadata": {
        "id": "8UyfCsewE11Z"
      }
    },
    {
      "cell_type": "code",
      "source": [
        "class Nodo:\n",
        "    def __init__(self, nombre, nombre_famoso, cantidad_tiktok_subidos):\n",
        "        self.nombre = nombre\n",
        "        self.nombre_famoso = nombre_famoso\n",
        "        self.cantidad_tiktok_subidos = cantidad_tiktok_subidos\n",
        "\n",
        "        self.siguiente = None  # Apunta al siguiente nodo"
      ],
      "metadata": {
        "id": "RvKRj05-E3Wh"
      },
      "execution_count": null,
      "outputs": []
    },
    {
      "cell_type": "code",
      "source": [
        "class ListaSimple:\n",
        "    def __init__(self):\n",
        "        self.cabeza = None\n",
        "#metodo para ingresar un nodo a la lista\n",
        "    def agregar(self, nombre, nombre_famoso, cantidad_tiktok_subidos):\n",
        "        nuevo_nodo = Nodo(nombre, nombre_famoso, cantidad_tiktok_subidos)\n",
        "        nuevo_nodo.siguiente = self.cabeza\n",
        "        self.cabeza = nuevo_nodo\n",
        "#metodo para mostrara los nodos\n",
        "    def imprimir(self):\n",
        "        nodo_actual = self.cabeza\n",
        "        while nodo_actual is not None: #recorre hasta el ultimo nodo\n",
        "            print(nodo_actual.nombre, nodo_actual.nombre_famoso, nodo_actual.cantidad_tiktok_subidos)\n",
        "            nodo_actual = nodo_actual.siguiente #inserta el nuevo nodo al final"
      ],
      "metadata": {
        "id": "Ck5A5vo4E3wR"
      },
      "execution_count": null,
      "outputs": []
    },
    {
      "cell_type": "code",
      "source": [
        "listaSimple = ListaSimple()\n",
        "listaSimple.agregar(\"eva,\",\"evapartis,\",\"98 videos\")\n",
        "listaSimple.agregar(\"jhonathan ferney,\",\"JH,\",\"550 videos\")\n",
        "listaSimple.agregar(\"lizbeth castañeda,\", \"beth cast,\", \"606 videos\")\n",
        "listaSimple.imprimir()"
      ],
      "metadata": {
        "colab": {
          "base_uri": "https://localhost:8080/"
        },
        "id": "hVZk3J_CE4DZ",
        "outputId": "64ac63f3-2444-44e1-90b3-d3cd0e050e54"
      },
      "execution_count": null,
      "outputs": [
        {
          "output_type": "stream",
          "name": "stdout",
          "text": [
            "lizbeth castañeda, beth cast, 606 videos\n",
            "jhonathan ferney, JH, 550 videos\n",
            "eva, evapartis, 98 videos\n"
          ]
        }
      ]
    }
  ]
}
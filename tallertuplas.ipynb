{
  "nbformat": 4,
  "nbformat_minor": 0,
  "metadata": {
    "colab": {
      "provenance": [],
      "authorship_tag": "ABX9TyPV9deitSk4Ijx2wou/chXd",
      "include_colab_link": true
    },
    "kernelspec": {
      "name": "python3",
      "display_name": "Python 3"
    },
    "language_info": {
      "name": "python"
    }
  },
  "cells": [
    {
      "cell_type": "markdown",
      "metadata": {
        "id": "view-in-github",
        "colab_type": "text"
      },
      "source": [
        "<a href=\"https://colab.research.google.com/github/sebastianacevedo1/juanAcevedoEstructuraDatoss/blob/main/tallertuplas.ipynb\" target=\"_parent\"><img src=\"https://colab.research.google.com/assets/colab-badge.svg\" alt=\"Open In Colab\"/></a>"
      ]
    },
    {
      "cell_type": "markdown",
      "source": [
        "1.)"
      ],
      "metadata": {
        "id": "_Xc003pmuxDE"
      }
    },
    {
      "cell_type": "code",
      "source": [
        "fruits = (\"apple\", \"banana\", \"cherry\", \"date\", \"fig\", \"grape\")\n",
        "print(fruits)\n",
        "print(len(fruits))\n"
      ],
      "metadata": {
        "colab": {
          "base_uri": "https://localhost:8080/"
        },
        "id": "vk4uAc8Vtcqs",
        "outputId": "fc5e13b0-8ab9-468c-d01c-2fde12d232b8"
      },
      "execution_count": null,
      "outputs": [
        {
          "output_type": "stream",
          "name": "stdout",
          "text": [
            "('apple', 'banana', 'cherry', 'date', 'fig', 'grape')\n",
            "6\n"
          ]
        }
      ]
    },
    {
      "cell_type": "markdown",
      "source": [
        "2.)"
      ],
      "metadata": {
        "id": "BFSw3Scbu0XN"
      }
    },
    {
      "cell_type": "code",
      "source": [
        "\n",
        "print(fruits[2])\n"
      ],
      "metadata": {
        "colab": {
          "base_uri": "https://localhost:8080/"
        },
        "id": "qelEW6Dts6i9",
        "outputId": "4c669aab-e87b-43dd-b586-063bc1c2546e"
      },
      "execution_count": null,
      "outputs": [
        {
          "output_type": "stream",
          "name": "stdout",
          "text": [
            "cherry\n"
          ]
        }
      ]
    },
    {
      "cell_type": "markdown",
      "source": [
        "3.)"
      ],
      "metadata": {
        "id": "iThZ3B8Au2Dc"
      }
    },
    {
      "cell_type": "code",
      "source": [
        "colors = (\"red\", \"green\", \"blue\")\n",
        "color1, color2, color3 = colors\n",
        "print(color1)\n",
        "print(color2)\n",
        "print(color3)\n"
      ],
      "metadata": {
        "colab": {
          "base_uri": "https://localhost:8080/"
        },
        "id": "GSlKC0UGtDAc",
        "outputId": "be5c2195-9cff-4edd-d405-713272bb944a"
      },
      "execution_count": null,
      "outputs": [
        {
          "output_type": "stream",
          "name": "stdout",
          "text": [
            "red\n",
            "green\n",
            "blue\n"
          ]
        }
      ]
    },
    {
      "cell_type": "markdown",
      "source": [
        "4.)"
      ],
      "metadata": {
        "id": "NGBeQHtxu3gc"
      }
    },
    {
      "cell_type": "code",
      "source": [
        "numbers1 = (1, 2, 3)\n",
        "numbers2 = (4, 5, 6)\n",
        "numbers3 = numbers1 + numbers2\n",
        "print(numbers3)"
      ],
      "metadata": {
        "colab": {
          "base_uri": "https://localhost:8080/"
        },
        "id": "yJjZhxm8tl5l",
        "outputId": "6561f450-23a5-47eb-b5ba-49c02f588c88"
      },
      "execution_count": null,
      "outputs": [
        {
          "output_type": "stream",
          "name": "stdout",
          "text": [
            "(1, 2, 3, 4, 5, 6)\n"
          ]
        }
      ]
    },
    {
      "cell_type": "markdown",
      "source": [
        "5.)"
      ],
      "metadata": {
        "id": "ySeABgxzu5AD"
      }
    },
    {
      "cell_type": "code",
      "source": [
        "repeat = (\"repeat\",)\n",
        "print(repeat * 4)"
      ],
      "metadata": {
        "colab": {
          "base_uri": "https://localhost:8080/"
        },
        "id": "-_fr-ahqt5hS",
        "outputId": "bbe97703-1915-4fda-c02d-469e66e3ee74"
      },
      "execution_count": null,
      "outputs": [
        {
          "output_type": "stream",
          "name": "stdout",
          "text": [
            "('repeat', 'repeat', 'repeat', 'repeat')\n"
          ]
        }
      ]
    },
    {
      "cell_type": "markdown",
      "source": [
        "6.)"
      ],
      "metadata": {
        "id": "B05AnhFeu6o8"
      }
    },
    {
      "cell_type": "code",
      "source": [
        "numbers = (10, 20, 30, 40, 50)\n",
        "for number in numbers:\n",
        "    print(number)"
      ],
      "metadata": {
        "colab": {
          "base_uri": "https://localhost:8080/"
        },
        "id": "BCq15jeruDez",
        "outputId": "beed2acc-8286-4dea-f116-52be5077389c"
      },
      "execution_count": null,
      "outputs": [
        {
          "output_type": "stream",
          "name": "stdout",
          "text": [
            "10\n",
            "20\n",
            "30\n",
            "40\n",
            "50\n"
          ]
        }
      ]
    },
    {
      "cell_type": "markdown",
      "source": [
        "7.)"
      ],
      "metadata": {
        "id": "6fBv_6IVu8D0"
      }
    },
    {
      "cell_type": "code",
      "source": [
        "tuple1 = (1, 2, 3)\n",
        "tuple2 = (\"a\", \"b\", \"c\")\n",
        "tuple3 = (tuple1, tuple2)\n",
        "print(tuple3)"
      ],
      "metadata": {
        "colab": {
          "base_uri": "https://localhost:8080/"
        },
        "id": "SqeGINeCuMlE",
        "outputId": "43aa92e3-579c-4ddd-ab39-f61b9d58b4ca"
      },
      "execution_count": null,
      "outputs": [
        {
          "output_type": "stream",
          "name": "stdout",
          "text": [
            "((1, 2, 3), ('a', 'b', 'c'))\n"
          ]
        }
      ]
    },
    {
      "cell_type": "markdown",
      "source": [
        "8.)"
      ],
      "metadata": {
        "id": "eQvv0xdGu9ZD"
      }
    },
    {
      "cell_type": "code",
      "source": [
        "letters = (\"a\", \"b\", \"c\", \"d\")\n",
        "if \"e\" in letters:\n",
        "    print(\"La letra 'e' está en la tupla.\")\n",
        "else:\n",
        "    print(\"La letra 'e' no está en la tupla.\")"
      ],
      "metadata": {
        "colab": {
          "base_uri": "https://localhost:8080/"
        },
        "id": "nb0Fz7pDuSnE",
        "outputId": "231fb441-343d-40cf-e727-06d998fc343c"
      },
      "execution_count": null,
      "outputs": [
        {
          "output_type": "stream",
          "name": "stdout",
          "text": [
            "La letra 'e' no está en la tupla.\n"
          ]
        }
      ]
    },
    {
      "cell_type": "markdown",
      "source": [
        "9.)"
      ],
      "metadata": {
        "id": "BUkftNCVu-kT"
      }
    },
    {
      "cell_type": "code",
      "source": [
        "my_list = [100, 200, 300, 400]\n",
        "my_tuple = tuple(my_list)\n",
        "print(my_tuple)"
      ],
      "metadata": {
        "colab": {
          "base_uri": "https://localhost:8080/"
        },
        "id": "oHk5H7P1ugMc",
        "outputId": "a39a1acd-b623-4f79-f31f-dd5eefb9b3f2"
      },
      "execution_count": null,
      "outputs": [
        {
          "output_type": "stream",
          "name": "stdout",
          "text": [
            "(100, 200, 300, 400)\n"
          ]
        }
      ]
    },
    {
      "cell_type": "markdown",
      "source": [
        "10.)"
      ],
      "metadata": {
        "id": "tgSmMPsmvBIr"
      }
    },
    {
      "cell_type": "code",
      "source": [
        "my_tuple = (5, 10, 15, 20, 25, 30, 35)\n",
        "print(my_tuple[2])\n",
        "print(my_tuple[1:5])"
      ],
      "metadata": {
        "colab": {
          "base_uri": "https://localhost:8080/"
        },
        "id": "fgpEMELUukVF",
        "outputId": "d9dd57b1-6652-4c8b-ba5a-714e2a34a187"
      },
      "execution_count": null,
      "outputs": [
        {
          "output_type": "stream",
          "name": "stdout",
          "text": [
            "15\n",
            "(10, 15, 20, 25)\n"
          ]
        }
      ]
    },
    {
      "cell_type": "code",
      "source": [],
      "metadata": {
        "id": "Y18s5Du4vDoc"
      },
      "execution_count": null,
      "outputs": []
    }
  ]
}